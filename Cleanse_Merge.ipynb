{
 "cells": [
  {
   "cell_type": "code",
   "execution_count": 1,
   "metadata": {},
   "outputs": [],
   "source": [
    "import pandas as pd\n",
    "import numpy as np\n",
    "import glob\n",
    "import re\n",
    "import os"
   ]
  },
  {
   "cell_type": "markdown",
   "metadata": {},
   "source": [
    "# Underlyings"
   ]
  },
  {
   "cell_type": "markdown",
   "metadata": {},
   "source": [
    "* Merge and Clean Data. Calculate 10-D MA and Daily Growth"
   ]
  },
  {
   "cell_type": "code",
   "execution_count": 2,
   "metadata": {},
   "outputs": [],
   "source": [
    "Project_Dir = os.getcwd()\n",
    "Raw_Data_Dir = Project_Dir + r\"/Raw_Data\"\n",
    "Processed_Data_Dir = Project_Dir + r\"/Processed_Data\"\n",
    "csv_raw_ls = glob.glob(Raw_Data_Dir + r'/*.csv')"
   ]
  },
  {
   "cell_type": "code",
   "execution_count": 3,
   "metadata": {},
   "outputs": [],
   "source": [
    "DATA_STACK = []\n",
    "for f in csv_raw_ls:\n",
    "    tmp = pd.read_csv(f, usecols=['Date', 'Adj Close'], parse_dates=['Date'])\n",
    "    tmp.columns=['Date', 'Close']\n",
    "    tmp['Fig'] = re.search('[A-Z]{3,4}.csv', f).group(0).replace(\".csv\",\"\")\n",
    "    tmp['Ten_ma'] = tmp.Close.rolling(10, min_periods=1).mean()\n",
    "    tmp['pct_chg'] = tmp.Close.pct_change()\n",
    "    DATA_STACK.append(tmp.dropna())\n",
    "DATA_STACK = pd.concat(DATA_STACK)"
   ]
  },
  {
   "cell_type": "code",
   "execution_count": 4,
   "metadata": {},
   "outputs": [
    {
     "data": {
      "text/html": [
       "<div>\n",
       "<style scoped>\n",
       "    .dataframe tbody tr th:only-of-type {\n",
       "        vertical-align: middle;\n",
       "    }\n",
       "\n",
       "    .dataframe tbody tr th {\n",
       "        vertical-align: top;\n",
       "    }\n",
       "\n",
       "    .dataframe thead th {\n",
       "        text-align: right;\n",
       "    }\n",
       "</style>\n",
       "<table border=\"1\" class=\"dataframe\">\n",
       "  <thead>\n",
       "    <tr style=\"text-align: right;\">\n",
       "      <th></th>\n",
       "      <th>Date</th>\n",
       "      <th>Close</th>\n",
       "      <th>Fig</th>\n",
       "      <th>Ten_ma</th>\n",
       "      <th>pct_chg</th>\n",
       "    </tr>\n",
       "  </thead>\n",
       "  <tbody>\n",
       "    <tr>\n",
       "      <th>1</th>\n",
       "      <td>2013-11-27</td>\n",
       "      <td>75.842369</td>\n",
       "      <td>SCC</td>\n",
       "      <td>75.862244</td>\n",
       "      <td>-0.000524</td>\n",
       "    </tr>\n",
       "    <tr>\n",
       "      <th>2</th>\n",
       "      <td>2013-11-29</td>\n",
       "      <td>75.246117</td>\n",
       "      <td>SCC</td>\n",
       "      <td>75.656868</td>\n",
       "      <td>-0.007862</td>\n",
       "    </tr>\n",
       "    <tr>\n",
       "      <th>3</th>\n",
       "      <td>2013-12-02</td>\n",
       "      <td>75.802612</td>\n",
       "      <td>SCC</td>\n",
       "      <td>75.693304</td>\n",
       "      <td>0.007396</td>\n",
       "    </tr>\n",
       "    <tr>\n",
       "      <th>4</th>\n",
       "      <td>2013-12-03</td>\n",
       "      <td>77.313110</td>\n",
       "      <td>SCC</td>\n",
       "      <td>76.017265</td>\n",
       "      <td>0.019927</td>\n",
       "    </tr>\n",
       "    <tr>\n",
       "      <th>5</th>\n",
       "      <td>2013-12-04</td>\n",
       "      <td>77.909355</td>\n",
       "      <td>SCC</td>\n",
       "      <td>76.332613</td>\n",
       "      <td>0.007712</td>\n",
       "    </tr>\n",
       "  </tbody>\n",
       "</table>\n",
       "</div>"
      ],
      "text/plain": [
       "        Date      Close  Fig     Ten_ma   pct_chg\n",
       "1 2013-11-27  75.842369  SCC  75.862244 -0.000524\n",
       "2 2013-11-29  75.246117  SCC  75.656868 -0.007862\n",
       "3 2013-12-02  75.802612  SCC  75.693304  0.007396\n",
       "4 2013-12-03  77.313110  SCC  76.017265  0.019927\n",
       "5 2013-12-04  77.909355  SCC  76.332613  0.007712"
      ]
     },
     "execution_count": 4,
     "metadata": {},
     "output_type": "execute_result"
    }
   ],
   "source": [
    "DATA_STACK.head()"
   ]
  },
  {
   "cell_type": "markdown",
   "metadata": {},
   "source": [
    "* Check the Trading Span of each Underlying, and get rid of ones with short span. Keep only the Established ones with longer trading history"
   ]
  },
  {
   "cell_type": "code",
   "execution_count": 5,
   "metadata": {},
   "outputs": [],
   "source": [
    "dt_trade_span=DATA_STACK.groupby('Fig')\\\n",
    "    .agg({'Date':[np.min, np.max,lambda x: (np.max(x)-np.min(x))]})\\\n",
    "    .sort_values([('Date','<lambda>')])"
   ]
  },
  {
   "cell_type": "code",
   "execution_count": 6,
   "metadata": {},
   "outputs": [
    {
     "data": {
      "text/html": [
       "<div>\n",
       "<style scoped>\n",
       "    .dataframe tbody tr th:only-of-type {\n",
       "        vertical-align: middle;\n",
       "    }\n",
       "\n",
       "    .dataframe tbody tr th {\n",
       "        vertical-align: top;\n",
       "    }\n",
       "\n",
       "    .dataframe thead tr th {\n",
       "        text-align: left;\n",
       "    }\n",
       "\n",
       "    .dataframe thead tr:last-of-type th {\n",
       "        text-align: right;\n",
       "    }\n",
       "</style>\n",
       "<table border=\"1\" class=\"dataframe\">\n",
       "  <thead>\n",
       "    <tr>\n",
       "      <th></th>\n",
       "      <th colspan=\"3\" halign=\"left\">Date</th>\n",
       "    </tr>\n",
       "    <tr>\n",
       "      <th></th>\n",
       "      <th>amin</th>\n",
       "      <th>amax</th>\n",
       "      <th>&lt;lambda&gt;</th>\n",
       "    </tr>\n",
       "    <tr>\n",
       "      <th>Fig</th>\n",
       "      <th></th>\n",
       "      <th></th>\n",
       "      <th></th>\n",
       "    </tr>\n",
       "  </thead>\n",
       "  <tbody>\n",
       "    <tr>\n",
       "      <th>MEXX</th>\n",
       "      <td>2017-05-04</td>\n",
       "      <td>2018-11-23</td>\n",
       "      <td>568 days</td>\n",
       "    </tr>\n",
       "    <tr>\n",
       "      <th>VMIN</th>\n",
       "      <td>2016-05-04</td>\n",
       "      <td>2018-11-23</td>\n",
       "      <td>933 days</td>\n",
       "    </tr>\n",
       "    <tr>\n",
       "      <th>NAIL</th>\n",
       "      <td>2015-08-20</td>\n",
       "      <td>2018-11-23</td>\n",
       "      <td>1191 days</td>\n",
       "    </tr>\n",
       "    <tr>\n",
       "      <th>GUSH</th>\n",
       "      <td>2015-06-01</td>\n",
       "      <td>2018-11-23</td>\n",
       "      <td>1271 days</td>\n",
       "    </tr>\n",
       "    <tr>\n",
       "      <th>HOML</th>\n",
       "      <td>2015-03-11</td>\n",
       "      <td>2018-11-23</td>\n",
       "      <td>1353 days</td>\n",
       "    </tr>\n",
       "    <tr>\n",
       "      <th>AMZA</th>\n",
       "      <td>2014-10-03</td>\n",
       "      <td>2018-11-23</td>\n",
       "      <td>1512 days</td>\n",
       "    </tr>\n",
       "    <tr>\n",
       "      <th>FNG</th>\n",
       "      <td>2014-07-14</td>\n",
       "      <td>2018-11-23</td>\n",
       "      <td>1593 days</td>\n",
       "    </tr>\n",
       "    <tr>\n",
       "      <th>ERX</th>\n",
       "      <td>2013-11-27</td>\n",
       "      <td>2018-11-23</td>\n",
       "      <td>1822 days</td>\n",
       "    </tr>\n",
       "    <tr>\n",
       "      <th>GASL</th>\n",
       "      <td>2013-11-27</td>\n",
       "      <td>2018-11-23</td>\n",
       "      <td>1822 days</td>\n",
       "    </tr>\n",
       "    <tr>\n",
       "      <th>OIH</th>\n",
       "      <td>2013-11-27</td>\n",
       "      <td>2018-11-23</td>\n",
       "      <td>1822 days</td>\n",
       "    </tr>\n",
       "    <tr>\n",
       "      <th>SCC</th>\n",
       "      <td>2013-11-27</td>\n",
       "      <td>2018-11-23</td>\n",
       "      <td>1822 days</td>\n",
       "    </tr>\n",
       "    <tr>\n",
       "      <th>SOXL</th>\n",
       "      <td>2013-11-27</td>\n",
       "      <td>2018-11-23</td>\n",
       "      <td>1822 days</td>\n",
       "    </tr>\n",
       "    <tr>\n",
       "      <th>USD</th>\n",
       "      <td>2013-11-27</td>\n",
       "      <td>2018-11-23</td>\n",
       "      <td>1822 days</td>\n",
       "    </tr>\n",
       "  </tbody>\n",
       "</table>\n",
       "</div>"
      ],
      "text/plain": [
       "           Date                     \n",
       "           amin       amax  <lambda>\n",
       "Fig                                 \n",
       "MEXX 2017-05-04 2018-11-23  568 days\n",
       "VMIN 2016-05-04 2018-11-23  933 days\n",
       "NAIL 2015-08-20 2018-11-23 1191 days\n",
       "GUSH 2015-06-01 2018-11-23 1271 days\n",
       "HOML 2015-03-11 2018-11-23 1353 days\n",
       "AMZA 2014-10-03 2018-11-23 1512 days\n",
       "FNG  2014-07-14 2018-11-23 1593 days\n",
       "ERX  2013-11-27 2018-11-23 1822 days\n",
       "GASL 2013-11-27 2018-11-23 1822 days\n",
       "OIH  2013-11-27 2018-11-23 1822 days\n",
       "SCC  2013-11-27 2018-11-23 1822 days\n",
       "SOXL 2013-11-27 2018-11-23 1822 days\n",
       "USD  2013-11-27 2018-11-23 1822 days"
      ]
     },
     "execution_count": 6,
     "metadata": {},
     "output_type": "execute_result"
    }
   ],
   "source": [
    "dt_trade_span"
   ]
  },
  {
   "cell_type": "code",
   "execution_count": 7,
   "metadata": {},
   "outputs": [],
   "source": [
    "data_estbsed=DATA_STACK[~DATA_STACK.Fig.isin(['VMIN','MEXX'])& (DATA_STACK.Date>='2015-08-20')]"
   ]
  },
  {
   "cell_type": "markdown",
   "metadata": {},
   "source": [
    "* Calculate 104 Weekly Range to compare with current price. 10-D MA Metric."
   ]
  },
  {
   "cell_type": "code",
   "execution_count": 8,
   "metadata": {},
   "outputs": [
    {
     "data": {
      "text/plain": [
       "array(['18-47', '18-46', '18-45', '18-44', '18-43', '18-42', '18-41',\n",
       "       '18-40', '18-39', '18-38', '18-37', '18-36', '18-35', '18-34',\n",
       "       '18-33', '18-32', '18-31', '18-30', '18-29', '18-28', '18-27',\n",
       "       '18-26', '18-25', '18-24', '18-23', '18-22', '18-21', '18-20',\n",
       "       '18-19', '18-18', '18-17', '18-16', '18-15', '18-14', '18-13',\n",
       "       '18-12', '18-11', '18-10', '18-09', '18-08', '18-07', '18-06',\n",
       "       '18-05', '18-04', '18-03', '18-02', '18-01', '17-52', '17-51',\n",
       "       '17-50', '17-49', '17-48', '17-47', '17-46', '17-45', '17-44',\n",
       "       '17-43', '17-42', '17-41', '17-40', '17-39', '17-38', '17-37',\n",
       "       '17-36', '17-35', '17-34', '17-33', '17-32', '17-31', '17-30',\n",
       "       '17-29', '17-28', '17-27', '17-26', '17-25', '17-24', '17-23',\n",
       "       '17-22', '17-21', '17-20', '17-19', '17-18', '17-17', '17-16',\n",
       "       '17-15', '17-14', '17-13', '17-12', '17-11', '17-10', '17-09',\n",
       "       '17-08', '17-07', '17-06', '17-05', '17-04', '17-03', '17-02',\n",
       "       '17-01', '16-52', '16-51', '16-50', '16-49', '16-48'], dtype=object)"
      ]
     },
     "execution_count": 8,
     "metadata": {},
     "output_type": "execute_result"
    }
   ],
   "source": [
    "(data_estbsed.Date.dt.strftime(\"%y-%W\")).sort_values(ascending=False).unique()[0:104]"
   ]
  },
  {
   "cell_type": "code",
   "execution_count": 9,
   "metadata": {},
   "outputs": [],
   "source": [
    "dt_week_104=data_estbsed[data_estbsed.Date.dt.strftime(\"%y-%W\")>='16-48']\n",
    "dt_range_104=[]\n",
    "for fig in data_estbsed.Fig.unique():\n",
    "    dt_tmp=dt_week_104.loc[dt_week_104.Fig==fig,:]\n",
    "    crt=dt_tmp.loc[dt_tmp.Date.idxmax,'Ten_ma']\n",
    "    low,high=[np.min(dt_tmp.Ten_ma),np.max(dt_tmp.Ten_ma)]\n",
    "    pos=(crt-low)/(high-low)\n",
    "    dt_range_104.append([fig,crt,low,high,pos])\n"
   ]
  },
  {
   "cell_type": "code",
   "execution_count": 10,
   "metadata": {},
   "outputs": [],
   "source": [
    "dt_range_104=pd.DataFrame(dt_range_104,\n",
    "             columns=['Fig','Current','104_Low',\n",
    "                      '104_High','Position']\n",
    "            ).sort_values('Position').set_index('Fig').round(2)"
   ]
  },
  {
   "cell_type": "code",
   "execution_count": 11,
   "metadata": {},
   "outputs": [
    {
     "data": {
      "text/html": [
       "<div>\n",
       "<style scoped>\n",
       "    .dataframe tbody tr th:only-of-type {\n",
       "        vertical-align: middle;\n",
       "    }\n",
       "\n",
       "    .dataframe tbody tr th {\n",
       "        vertical-align: top;\n",
       "    }\n",
       "\n",
       "    .dataframe thead th {\n",
       "        text-align: right;\n",
       "    }\n",
       "</style>\n",
       "<table border=\"1\" class=\"dataframe\">\n",
       "  <thead>\n",
       "    <tr style=\"text-align: right;\">\n",
       "      <th></th>\n",
       "      <th>Current</th>\n",
       "      <th>104_Low</th>\n",
       "      <th>104_High</th>\n",
       "      <th>Position</th>\n",
       "    </tr>\n",
       "    <tr>\n",
       "      <th>Fig</th>\n",
       "      <th></th>\n",
       "      <th></th>\n",
       "      <th></th>\n",
       "      <th></th>\n",
       "    </tr>\n",
       "  </thead>\n",
       "  <tbody>\n",
       "    <tr>\n",
       "      <th>GASL</th>\n",
       "      <td>11.67</td>\n",
       "      <td>11.67</td>\n",
       "      <td>51.31</td>\n",
       "      <td>0.00</td>\n",
       "    </tr>\n",
       "    <tr>\n",
       "      <th>OIH</th>\n",
       "      <td>19.09</td>\n",
       "      <td>19.09</td>\n",
       "      <td>33.50</td>\n",
       "      <td>0.00</td>\n",
       "    </tr>\n",
       "    <tr>\n",
       "      <th>GUSH</th>\n",
       "      <td>18.49</td>\n",
       "      <td>15.87</td>\n",
       "      <td>107.67</td>\n",
       "      <td>0.03</td>\n",
       "    </tr>\n",
       "    <tr>\n",
       "      <th>NAIL</th>\n",
       "      <td>27.82</td>\n",
       "      <td>24.97</td>\n",
       "      <td>105.11</td>\n",
       "      <td>0.04</td>\n",
       "    </tr>\n",
       "    <tr>\n",
       "      <th>AMZA</th>\n",
       "      <td>6.17</td>\n",
       "      <td>6.06</td>\n",
       "      <td>7.88</td>\n",
       "      <td>0.06</td>\n",
       "    </tr>\n",
       "    <tr>\n",
       "      <th>HOML</th>\n",
       "      <td>25.87</td>\n",
       "      <td>22.65</td>\n",
       "      <td>67.25</td>\n",
       "      <td>0.07</td>\n",
       "    </tr>\n",
       "    <tr>\n",
       "      <th>SCC</th>\n",
       "      <td>19.06</td>\n",
       "      <td>16.94</td>\n",
       "      <td>36.25</td>\n",
       "      <td>0.11</td>\n",
       "    </tr>\n",
       "    <tr>\n",
       "      <th>ERX</th>\n",
       "      <td>24.03</td>\n",
       "      <td>21.72</td>\n",
       "      <td>41.93</td>\n",
       "      <td>0.11</td>\n",
       "    </tr>\n",
       "    <tr>\n",
       "      <th>SOXL</th>\n",
       "      <td>96.96</td>\n",
       "      <td>51.16</td>\n",
       "      <td>188.69</td>\n",
       "      <td>0.33</td>\n",
       "    </tr>\n",
       "    <tr>\n",
       "      <th>USD</th>\n",
       "      <td>32.78</td>\n",
       "      <td>21.04</td>\n",
       "      <td>51.66</td>\n",
       "      <td>0.38</td>\n",
       "    </tr>\n",
       "    <tr>\n",
       "      <th>FNG</th>\n",
       "      <td>17.60</td>\n",
       "      <td>0.73</td>\n",
       "      <td>23.09</td>\n",
       "      <td>0.75</td>\n",
       "    </tr>\n",
       "  </tbody>\n",
       "</table>\n",
       "</div>"
      ],
      "text/plain": [
       "      Current  104_Low  104_High  Position\n",
       "Fig                                       \n",
       "GASL    11.67    11.67     51.31      0.00\n",
       "OIH     19.09    19.09     33.50      0.00\n",
       "GUSH    18.49    15.87    107.67      0.03\n",
       "NAIL    27.82    24.97    105.11      0.04\n",
       "AMZA     6.17     6.06      7.88      0.06\n",
       "HOML    25.87    22.65     67.25      0.07\n",
       "SCC     19.06    16.94     36.25      0.11\n",
       "ERX     24.03    21.72     41.93      0.11\n",
       "SOXL    96.96    51.16    188.69      0.33\n",
       "USD     32.78    21.04     51.66      0.38\n",
       "FNG     17.60     0.73     23.09      0.75"
      ]
     },
     "execution_count": 11,
     "metadata": {},
     "output_type": "execute_result"
    }
   ],
   "source": [
    "dt_range_104"
   ]
  },
  {
   "cell_type": "markdown",
   "metadata": {},
   "source": [
    "* Go and Find Options Data based on 104 Week Position"
   ]
  },
  {
   "cell_type": "code",
   "execution_count": 12,
   "metadata": {},
   "outputs": [
    {
     "data": {
      "text/plain": [
       "Index(['GASL', 'OIH', 'GUSH', 'NAIL', 'AMZA', 'HOML', 'SCC', 'ERX'], dtype='object', name='Fig')"
      ]
     },
     "execution_count": 12,
     "metadata": {},
     "output_type": "execute_result"
    }
   ],
   "source": [
    "dt_range_104[dt_range_104.Position<0.2].index"
   ]
  },
  {
   "cell_type": "markdown",
   "metadata": {},
   "source": [
    "# Option Data"
   ]
  },
  {
   "cell_type": "markdown",
   "metadata": {},
   "source": [
    "* Cleanse"
   ]
  },
  {
   "cell_type": "code",
   "execution_count": 13,
   "metadata": {},
   "outputs": [],
   "source": [
    "DATA_OPTION=pd.read_csv(Raw_Data_Dir+'/Options/Option_Dec_1.csv',parse_dates=[0],\n",
    "                        usecols=['Root','Ask','Strike','Puts'])"
   ]
  },
  {
   "cell_type": "code",
   "execution_count": 14,
   "metadata": {},
   "outputs": [],
   "source": [
    "DATA_OPTION.columns=['Maturity','Fig','Strike','Ask_p']"
   ]
  },
  {
   "cell_type": "code",
   "execution_count": 15,
   "metadata": {},
   "outputs": [
    {
     "data": {
      "text/html": [
       "<div>\n",
       "<style scoped>\n",
       "    .dataframe tbody tr th:only-of-type {\n",
       "        vertical-align: middle;\n",
       "    }\n",
       "\n",
       "    .dataframe tbody tr th {\n",
       "        vertical-align: top;\n",
       "    }\n",
       "\n",
       "    .dataframe thead th {\n",
       "        text-align: right;\n",
       "    }\n",
       "</style>\n",
       "<table border=\"1\" class=\"dataframe\">\n",
       "  <thead>\n",
       "    <tr style=\"text-align: right;\">\n",
       "      <th></th>\n",
       "      <th>Maturity</th>\n",
       "      <th>Fig</th>\n",
       "      <th>Strike</th>\n",
       "      <th>Ask_p</th>\n",
       "    </tr>\n",
       "  </thead>\n",
       "  <tbody>\n",
       "    <tr>\n",
       "      <th>0</th>\n",
       "      <td>2018-12-21</td>\n",
       "      <td>GASL</td>\n",
       "      <td>1.0</td>\n",
       "      <td>0.55</td>\n",
       "    </tr>\n",
       "    <tr>\n",
       "      <th>1</th>\n",
       "      <td>2018-12-21</td>\n",
       "      <td>GASL</td>\n",
       "      <td>2.0</td>\n",
       "      <td>0.55</td>\n",
       "    </tr>\n",
       "    <tr>\n",
       "      <th>2</th>\n",
       "      <td>2018-12-21</td>\n",
       "      <td>GASL</td>\n",
       "      <td>3.0</td>\n",
       "      <td>0.55</td>\n",
       "    </tr>\n",
       "    <tr>\n",
       "      <th>3</th>\n",
       "      <td>2018-12-21</td>\n",
       "      <td>GASL</td>\n",
       "      <td>4.0</td>\n",
       "      <td>0.55</td>\n",
       "    </tr>\n",
       "    <tr>\n",
       "      <th>4</th>\n",
       "      <td>2018-12-21</td>\n",
       "      <td>GASL</td>\n",
       "      <td>5.0</td>\n",
       "      <td>0.75</td>\n",
       "    </tr>\n",
       "    <tr>\n",
       "      <th>5</th>\n",
       "      <td>2018-12-21</td>\n",
       "      <td>GASL</td>\n",
       "      <td>6.0</td>\n",
       "      <td>0.15</td>\n",
       "    </tr>\n",
       "    <tr>\n",
       "      <th>6</th>\n",
       "      <td>2018-12-21</td>\n",
       "      <td>GASL</td>\n",
       "      <td>7.0</td>\n",
       "      <td>0.25</td>\n",
       "    </tr>\n",
       "    <tr>\n",
       "      <th>7</th>\n",
       "      <td>2018-12-21</td>\n",
       "      <td>GASL</td>\n",
       "      <td>8.0</td>\n",
       "      <td>0.45</td>\n",
       "    </tr>\n",
       "    <tr>\n",
       "      <th>8</th>\n",
       "      <td>2018-12-21</td>\n",
       "      <td>GASL</td>\n",
       "      <td>9.0</td>\n",
       "      <td>0.80</td>\n",
       "    </tr>\n",
       "    <tr>\n",
       "      <th>9</th>\n",
       "      <td>2019-01-18</td>\n",
       "      <td>GASL</td>\n",
       "      <td>2.0</td>\n",
       "      <td>4.90</td>\n",
       "    </tr>\n",
       "  </tbody>\n",
       "</table>\n",
       "</div>"
      ],
      "text/plain": [
       "    Maturity   Fig  Strike  Ask_p\n",
       "0 2018-12-21  GASL     1.0   0.55\n",
       "1 2018-12-21  GASL     2.0   0.55\n",
       "2 2018-12-21  GASL     3.0   0.55\n",
       "3 2018-12-21  GASL     4.0   0.55\n",
       "4 2018-12-21  GASL     5.0   0.75\n",
       "5 2018-12-21  GASL     6.0   0.15\n",
       "6 2018-12-21  GASL     7.0   0.25\n",
       "7 2018-12-21  GASL     8.0   0.45\n",
       "8 2018-12-21  GASL     9.0   0.80\n",
       "9 2019-01-18  GASL     2.0   4.90"
      ]
     },
     "execution_count": 15,
     "metadata": {},
     "output_type": "execute_result"
    }
   ],
   "source": [
    "DATA_OPTION.head(10)"
   ]
  },
  {
   "cell_type": "code",
   "execution_count": 16,
   "metadata": {},
   "outputs": [
    {
     "data": {
      "text/plain": [
       "array(['GASL', 'OIH', 'GUSH', 'AMZA', 'ERX', 'SOXL', 'USD'], dtype=object)"
      ]
     },
     "execution_count": 16,
     "metadata": {},
     "output_type": "execute_result"
    }
   ],
   "source": [
    "DATA_OPTION['Fig'].unique()"
   ]
  },
  {
   "cell_type": "markdown",
   "metadata": {},
   "source": [
    "# Process and Save Option & Underlying"
   ]
  },
  {
   "cell_type": "markdown",
   "metadata": {},
   "source": [
    "* Get Underlying that trade Option. Save and Validation"
   ]
  },
  {
   "cell_type": "code",
   "execution_count": 17,
   "metadata": {},
   "outputs": [
    {
     "data": {
      "text/html": [
       "<div>\n",
       "<style scoped>\n",
       "    .dataframe tbody tr th:only-of-type {\n",
       "        vertical-align: middle;\n",
       "    }\n",
       "\n",
       "    .dataframe tbody tr th {\n",
       "        vertical-align: top;\n",
       "    }\n",
       "\n",
       "    .dataframe thead tr th {\n",
       "        text-align: left;\n",
       "    }\n",
       "\n",
       "    .dataframe thead tr:last-of-type th {\n",
       "        text-align: right;\n",
       "    }\n",
       "</style>\n",
       "<table border=\"1\" class=\"dataframe\">\n",
       "  <thead>\n",
       "    <tr>\n",
       "      <th></th>\n",
       "      <th colspan=\"3\" halign=\"left\">Date</th>\n",
       "    </tr>\n",
       "    <tr>\n",
       "      <th></th>\n",
       "      <th>amin</th>\n",
       "      <th>amax</th>\n",
       "      <th>&lt;lambda&gt;</th>\n",
       "    </tr>\n",
       "    <tr>\n",
       "      <th>Fig</th>\n",
       "      <th></th>\n",
       "      <th></th>\n",
       "      <th></th>\n",
       "    </tr>\n",
       "  </thead>\n",
       "  <tbody>\n",
       "    <tr>\n",
       "      <th>MEXX</th>\n",
       "      <td>2017-05-04</td>\n",
       "      <td>2018-11-23</td>\n",
       "      <td>568 days</td>\n",
       "    </tr>\n",
       "    <tr>\n",
       "      <th>VMIN</th>\n",
       "      <td>2016-05-04</td>\n",
       "      <td>2018-11-23</td>\n",
       "      <td>933 days</td>\n",
       "    </tr>\n",
       "    <tr>\n",
       "      <th>NAIL</th>\n",
       "      <td>2015-08-20</td>\n",
       "      <td>2018-11-23</td>\n",
       "      <td>1191 days</td>\n",
       "    </tr>\n",
       "    <tr>\n",
       "      <th>GUSH</th>\n",
       "      <td>2015-06-01</td>\n",
       "      <td>2018-11-23</td>\n",
       "      <td>1271 days</td>\n",
       "    </tr>\n",
       "    <tr>\n",
       "      <th>HOML</th>\n",
       "      <td>2015-03-11</td>\n",
       "      <td>2018-11-23</td>\n",
       "      <td>1353 days</td>\n",
       "    </tr>\n",
       "    <tr>\n",
       "      <th>AMZA</th>\n",
       "      <td>2014-10-03</td>\n",
       "      <td>2018-11-23</td>\n",
       "      <td>1512 days</td>\n",
       "    </tr>\n",
       "    <tr>\n",
       "      <th>FNG</th>\n",
       "      <td>2014-07-14</td>\n",
       "      <td>2018-11-23</td>\n",
       "      <td>1593 days</td>\n",
       "    </tr>\n",
       "    <tr>\n",
       "      <th>ERX</th>\n",
       "      <td>2013-11-27</td>\n",
       "      <td>2018-11-23</td>\n",
       "      <td>1822 days</td>\n",
       "    </tr>\n",
       "    <tr>\n",
       "      <th>GASL</th>\n",
       "      <td>2013-11-27</td>\n",
       "      <td>2018-11-23</td>\n",
       "      <td>1822 days</td>\n",
       "    </tr>\n",
       "    <tr>\n",
       "      <th>OIH</th>\n",
       "      <td>2013-11-27</td>\n",
       "      <td>2018-11-23</td>\n",
       "      <td>1822 days</td>\n",
       "    </tr>\n",
       "    <tr>\n",
       "      <th>SCC</th>\n",
       "      <td>2013-11-27</td>\n",
       "      <td>2018-11-23</td>\n",
       "      <td>1822 days</td>\n",
       "    </tr>\n",
       "    <tr>\n",
       "      <th>SOXL</th>\n",
       "      <td>2013-11-27</td>\n",
       "      <td>2018-11-23</td>\n",
       "      <td>1822 days</td>\n",
       "    </tr>\n",
       "    <tr>\n",
       "      <th>USD</th>\n",
       "      <td>2013-11-27</td>\n",
       "      <td>2018-11-23</td>\n",
       "      <td>1822 days</td>\n",
       "    </tr>\n",
       "  </tbody>\n",
       "</table>\n",
       "</div>"
      ],
      "text/plain": [
       "           Date                     \n",
       "           amin       amax  <lambda>\n",
       "Fig                                 \n",
       "MEXX 2017-05-04 2018-11-23  568 days\n",
       "VMIN 2016-05-04 2018-11-23  933 days\n",
       "NAIL 2015-08-20 2018-11-23 1191 days\n",
       "GUSH 2015-06-01 2018-11-23 1271 days\n",
       "HOML 2015-03-11 2018-11-23 1353 days\n",
       "AMZA 2014-10-03 2018-11-23 1512 days\n",
       "FNG  2014-07-14 2018-11-23 1593 days\n",
       "ERX  2013-11-27 2018-11-23 1822 days\n",
       "GASL 2013-11-27 2018-11-23 1822 days\n",
       "OIH  2013-11-27 2018-11-23 1822 days\n",
       "SCC  2013-11-27 2018-11-23 1822 days\n",
       "SOXL 2013-11-27 2018-11-23 1822 days\n",
       "USD  2013-11-27 2018-11-23 1822 days"
      ]
     },
     "execution_count": 17,
     "metadata": {},
     "output_type": "execute_result"
    }
   ],
   "source": [
    "dt_trade_span"
   ]
  },
  {
   "cell_type": "code",
   "execution_count": 18,
   "metadata": {},
   "outputs": [],
   "source": [
    "dt_option=DATA_OPTION.join(dt_trade_span.Date,on='Fig')"
   ]
  },
  {
   "cell_type": "code",
   "execution_count": 19,
   "metadata": {},
   "outputs": [],
   "source": [
    "dt_option['D2M']=dt_option.Maturity-dt_option.amax\n",
    "dt_option.drop(['amin','amax','<lambda>'],axis=1,inplace=True)"
   ]
  },
  {
   "cell_type": "code",
   "execution_count": 20,
   "metadata": {},
   "outputs": [
    {
     "data": {
      "text/html": [
       "<div>\n",
       "<style scoped>\n",
       "    .dataframe tbody tr th:only-of-type {\n",
       "        vertical-align: middle;\n",
       "    }\n",
       "\n",
       "    .dataframe tbody tr th {\n",
       "        vertical-align: top;\n",
       "    }\n",
       "\n",
       "    .dataframe thead th {\n",
       "        text-align: right;\n",
       "    }\n",
       "</style>\n",
       "<table border=\"1\" class=\"dataframe\">\n",
       "  <thead>\n",
       "    <tr style=\"text-align: right;\">\n",
       "      <th></th>\n",
       "      <th>Maturity</th>\n",
       "      <th>Fig</th>\n",
       "      <th>Strike</th>\n",
       "      <th>Ask_p</th>\n",
       "      <th>D2M</th>\n",
       "    </tr>\n",
       "  </thead>\n",
       "  <tbody>\n",
       "    <tr>\n",
       "      <th>0</th>\n",
       "      <td>2018-12-21</td>\n",
       "      <td>GASL</td>\n",
       "      <td>1.0</td>\n",
       "      <td>0.55</td>\n",
       "      <td>28 days</td>\n",
       "    </tr>\n",
       "    <tr>\n",
       "      <th>1</th>\n",
       "      <td>2018-12-21</td>\n",
       "      <td>GASL</td>\n",
       "      <td>2.0</td>\n",
       "      <td>0.55</td>\n",
       "      <td>28 days</td>\n",
       "    </tr>\n",
       "    <tr>\n",
       "      <th>2</th>\n",
       "      <td>2018-12-21</td>\n",
       "      <td>GASL</td>\n",
       "      <td>3.0</td>\n",
       "      <td>0.55</td>\n",
       "      <td>28 days</td>\n",
       "    </tr>\n",
       "    <tr>\n",
       "      <th>3</th>\n",
       "      <td>2018-12-21</td>\n",
       "      <td>GASL</td>\n",
       "      <td>4.0</td>\n",
       "      <td>0.55</td>\n",
       "      <td>28 days</td>\n",
       "    </tr>\n",
       "    <tr>\n",
       "      <th>4</th>\n",
       "      <td>2018-12-21</td>\n",
       "      <td>GASL</td>\n",
       "      <td>5.0</td>\n",
       "      <td>0.75</td>\n",
       "      <td>28 days</td>\n",
       "    </tr>\n",
       "  </tbody>\n",
       "</table>\n",
       "</div>"
      ],
      "text/plain": [
       "    Maturity   Fig  Strike  Ask_p     D2M\n",
       "0 2018-12-21  GASL     1.0   0.55 28 days\n",
       "1 2018-12-21  GASL     2.0   0.55 28 days\n",
       "2 2018-12-21  GASL     3.0   0.55 28 days\n",
       "3 2018-12-21  GASL     4.0   0.55 28 days\n",
       "4 2018-12-21  GASL     5.0   0.75 28 days"
      ]
     },
     "execution_count": 20,
     "metadata": {},
     "output_type": "execute_result"
    }
   ],
   "source": [
    "dt_option.head()"
   ]
  },
  {
   "cell_type": "code",
   "execution_count": 21,
   "metadata": {},
   "outputs": [
    {
     "data": {
      "text/plain": [
       "(453, 5)"
      ]
     },
     "execution_count": 21,
     "metadata": {},
     "output_type": "execute_result"
    }
   ],
   "source": [
    "dt_option.shape"
   ]
  },
  {
   "cell_type": "code",
   "execution_count": 22,
   "metadata": {},
   "outputs": [
    {
     "data": {
      "text/plain": [
       "array([ 14,  21,  25,  28,  35,  42,  49,  56,  84, 112, 146, 175, 210,\n",
       "       420, 784])"
      ]
     },
     "execution_count": 22,
     "metadata": {},
     "output_type": "execute_result"
    }
   ],
   "source": [
    "np.sort(dt_option.D2M.dt.days.unique())"
   ]
  },
  {
   "cell_type": "code",
   "execution_count": 23,
   "metadata": {},
   "outputs": [],
   "source": [
    "dt_opt_near=dt_option[(dt_option.D2M.dt.days<=120)]"
   ]
  },
  {
   "cell_type": "code",
   "execution_count": 24,
   "metadata": {},
   "outputs": [
    {
     "data": {
      "text/plain": [
       "(408, 5)"
      ]
     },
     "execution_count": 24,
     "metadata": {},
     "output_type": "execute_result"
    }
   ],
   "source": [
    "dt_opt_near.shape"
   ]
  },
  {
   "cell_type": "markdown",
   "metadata": {},
   "source": [
    "* Backwards 2nd time screening and Finalize Save"
   ]
  },
  {
   "cell_type": "code",
   "execution_count": 25,
   "metadata": {},
   "outputs": [
    {
     "data": {
      "text/plain": [
       "['GASL', 'OIH', 'GUSH', 'AMZA', 'ERX', 'USD']"
      ]
     },
     "execution_count": 25,
     "metadata": {},
     "output_type": "execute_result"
    }
   ],
   "source": [
    "final_col_ls=[col for col in dt_opt_near.Fig.unique() if col not in ['SOXL']]\n",
    "final_col_ls"
   ]
  },
  {
   "cell_type": "code",
   "execution_count": 26,
   "metadata": {},
   "outputs": [],
   "source": [
    "dt_option[dt_option.Fig.isin(final_col_ls)].to_csv(Processed_Data_Dir+'/Options.csv')"
   ]
  },
  {
   "cell_type": "code",
   "execution_count": 27,
   "metadata": {},
   "outputs": [],
   "source": [
    "data_estbsed[data_estbsed.Fig.isin(final_col_ls)].to_csv(Processed_Data_Dir+'/Underlyings.csv')"
   ]
  },
  {
   "cell_type": "code",
   "execution_count": null,
   "metadata": {},
   "outputs": [],
   "source": []
  }
 ],
 "metadata": {
  "kernelspec": {
   "display_name": "Python 3",
   "language": "python",
   "name": "python3"
  },
  "language_info": {
   "codemirror_mode": {
    "name": "ipython",
    "version": 3
   },
   "file_extension": ".py",
   "mimetype": "text/x-python",
   "name": "python",
   "nbconvert_exporter": "python",
   "pygments_lexer": "ipython3",
   "version": "3.7.0"
  }
 },
 "nbformat": 4,
 "nbformat_minor": 2
}
